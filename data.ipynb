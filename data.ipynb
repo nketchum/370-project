{
 "cells": [
  {
   "cell_type": "markdown",
   "id": "d7bb38ae-bc90-41b7-9dba-6d31a8375416",
   "metadata": {},
   "source": [
    "## Data Merging and Cleaning\n",
    "\n",
    "This file assembles two \"master\" dataframes for experimentation. The first dataframe contains every crime throughout each day, with associated daily weather information. The second dataframe contains the number of arrests each day with associated mean weather information.\n",
    "\n",
    "### How to use:\n",
    "\n",
    "1. **Download CSV data and place in the ./input directory**\n",
    "    - [NYPD_Arrest_Data__Year_to_Date_.csv](https://drive.google.com/file/d/1Ee7dSLLK7EdiMwiE94uK3p0SiDd7vTrP/view?usp=sharing)\n",
    "    - [NYPD_Arrests_Data__Historic_.csv](https://drive.google.com/file/d/1g_Iok1V2NnWKBy0r9qGG7XavUlOhDzWe/view?usp=sharing)\n",
    "    - [daily_new_york_data.csv](https://drive.google.com/file/d/1_B0xP4ORTzHCG9S4LaEB_yEjC1mvITXU/view?usp=sharing)\n",
    "2. **Run cells in order from top to bottom**\n",
    "    - Run all cells in order\n",
    "    - Run all cells only once\n",
    "3. **View output in the ./output directory**\n",
    "    - We can either output files in our program, or call this module directly from another module to receive this data."
   ]
  },
  {
   "cell_type": "code",
   "execution_count": null,
   "id": "82ff9241-214c-4f6d-84c9-0a1c7cf743a6",
   "metadata": {},
   "outputs": [],
   "source": [
    "import pandas as pd"
   ]
  },
  {
   "cell_type": "markdown",
   "id": "ac0cfe8e-1f1c-46ab-b1a2-1398e596dd8e",
   "metadata": {},
   "source": [
    "### Arrest data\n",
    "\n",
    "We can load all arrests, or filter by law codes or by level of offense. If we don't want to filter anything, then everything in the next two cells should be commented out. If we want to filter by one or both, uncomment one or both cells and set the variables to the desired values.\n",
    "\n",
    "**Dataset**\n",
    "   - Historic arrest dataset: https://data.cityofnewyork.us/Public-Safety/NYPD-Arrest-Data-Year-to-Date-/uip8-fykc\n",
    "   - Current arrest dataset: https://data.cityofnewyork.us/Public-Safety/NYPD-Arrests-Data-Historic-/8h9b-rp9u\n",
    "   - New York State Penal Law Offenses: https://ypdcrime.com/penallawlist.php?tfm_order=DESC&tfm_orderby=code\n",
    "    \n",
    "**Resources**\n",
    "   - New York State Penal Law Offenses: https://ypdcrime.com/penallawlist.php?tfm_order=DESC&tfm_orderby=code\n",
    "   - Laws of New York: https://ypdcrime.com/penal.law/"
   ]
  },
  {
   "cell_type": "code",
   "execution_count": null,
   "id": "37265330-0085-4015-a535-4e82d5bb47b5",
   "metadata": {},
   "outputs": [],
   "source": [
    "# Filter by law code(s).\n",
    "# These codes seem rather arbitrary, see: https://ypdcrime.com/penallawlist.php?tfm_order=DESC&tfm_orderby=code\n",
    "# PL 1211200 is \"FELONY ASSAULT\" for example.\n",
    "# PL 1303501 is \"RAPE\" for example.\n",
    "\n",
    "# Comment out to disable:\n",
    "law_codes = ['PL 12']"
   ]
  },
  {
   "cell_type": "code",
   "execution_count": null,
   "id": "16aa7f47-374a-4e1c-bb8a-82cca252fb44",
   "metadata": {},
   "outputs": [],
   "source": [
    "# Filter by level of offense.\n",
    "# F: felony; M: misdemeanor; V: violation\n",
    "\n",
    "# Comment out to disable:\n",
    "law_cat_code = 'F'"
   ]
  },
  {
   "cell_type": "code",
   "execution_count": null,
   "id": "08e6a481-53d6-4b12-8d6f-2066986b9498",
   "metadata": {},
   "outputs": [],
   "source": [
    "historic_arrests = pd.read_csv('./input/NYPD_Arrests_Data__Historic_.csv')"
   ]
  },
  {
   "cell_type": "code",
   "execution_count": null,
   "id": "753e9ec8-2944-4d00-a366-8a1298f6eca1",
   "metadata": {},
   "outputs": [],
   "source": [
    "current_arrests = pd.read_csv('./input/NYPD_Arrest_Data__Year_to_Date_.csv')"
   ]
  },
  {
   "cell_type": "code",
   "execution_count": null,
   "id": "e0f78e19-381d-4b92-aa0a-67d4302a57cb",
   "metadata": {},
   "outputs": [],
   "source": [
    "# Number of dates.\n",
    "print('Number of unique dates: ' + str(len(current_arrests['ARREST_DATE'].unique()) + len(historic_arrests['ARREST_DATE'].unique())))"
   ]
  },
  {
   "cell_type": "code",
   "execution_count": null,
   "id": "85de554d-be89-4a77-b8ec-b848f3194745",
   "metadata": {},
   "outputs": [],
   "source": [
    "# Number of arrests.\n",
    "print('Number of arrests: ' + str(len(current_arrests['ARREST_DATE']) + len(historic_arrests['ARREST_DATE'])))"
   ]
  },
  {
   "cell_type": "code",
   "execution_count": null,
   "id": "157689b9-5d0f-41f3-abe9-99f12d27ac9e",
   "metadata": {},
   "outputs": [],
   "source": [
    "# Append historic data to current data for a full list.\n",
    "total_arrests = current_arrests.append(historic_arrests)"
   ]
  },
  {
   "cell_type": "code",
   "execution_count": null,
   "id": "f90628fa-15d8-48fb-b458-fa36c8baffaa",
   "metadata": {},
   "outputs": [],
   "source": [
    "def format_date_arrests(date):\n",
    "    split = date.split('/')\n",
    "    return split[2] + split[0] + split[1]"
   ]
  },
  {
   "cell_type": "code",
   "execution_count": null,
   "id": "d810c725-fe89-428e-a02b-34489b385c46",
   "metadata": {},
   "outputs": [],
   "source": [
    "total_arrests['date'] = total_arrests['ARREST_DATE'].apply(format_date_arrests)"
   ]
  },
  {
   "cell_type": "code",
   "execution_count": null,
   "id": "1185867a-fd98-4df0-93f9-2c5f5b9fe963",
   "metadata": {},
   "outputs": [],
   "source": [
    "def get_law_code_prefix(code):\n",
    "    if type(code) == str:\n",
    "        return code[:5]\n",
    "    else:\n",
    "        return code"
   ]
  },
  {
   "cell_type": "code",
   "execution_count": null,
   "id": "30643959-a93b-43bd-9779-f3248430f8e1",
   "metadata": {},
   "outputs": [],
   "source": [
    "# Create a column with just the first five characters of the law code for filtering.\n",
    "total_arrests['law_code_abbr'] = total_arrests['LAW_CODE'].apply(get_law_code_prefix)"
   ]
  },
  {
   "cell_type": "code",
   "execution_count": null,
   "id": "48091429-441d-4c9a-8722-03c703b945c8",
   "metadata": {},
   "outputs": [],
   "source": [
    "# Filter arrests in a new dataframe.\n",
    "arrests = pd.DataFrame()\n",
    "\n",
    "# Limit by law code if set.\n",
    "try:\n",
    "    law_codes\n",
    "    for law_code in law_codes:\n",
    "        arrests = arrests.append(total_arrests[total_arrests['law_code_abbr'] == law_code])\n",
    "except:\n",
    "    arrests = total_arrests\n",
    "\n",
    "# Limit by category code if set.\n",
    "try:\n",
    "    law_cat_code\n",
    "    arrests = arrests[arrests['LAW_CAT_CD'] == law_cat_code]\n",
    "except:\n",
    "    None"
   ]
  },
  {
   "cell_type": "code",
   "execution_count": null,
   "id": "5c7a738b-e63f-4018-879c-f7d2d6019957",
   "metadata": {},
   "outputs": [],
   "source": [
    "# Drop rows missing important data.\n",
    "arrests = arrests.dropna(subset=['PD_DESC', 'OFNS_DESC'])"
   ]
  },
  {
   "cell_type": "code",
   "execution_count": null,
   "id": "003e6b0d-eb6e-478f-ad45-8c58e5a1217d",
   "metadata": {},
   "outputs": [],
   "source": [
    "arrests.head()"
   ]
  },
  {
   "cell_type": "markdown",
   "id": "75f98e76-9b97-4014-bcfb-f5f407f8be1a",
   "metadata": {},
   "source": [
    "### Weather data\n",
    "#### Hourly weather"
   ]
  },
  {
   "cell_type": "code",
   "execution_count": null,
   "id": "40839b84-fe7e-43ab-b6ed-13ec64b27576",
   "metadata": {},
   "outputs": [],
   "source": [
    "hourly_weather = pd.read_csv('./input/daily_new_york_data.csv')\n",
    "\n",
    "# Grabbing more than temperature just so they're handy if we want to play a bit.\n",
    "hourly_weather = hourly_weather[['dt', 'temp', 'feels_like', 'temp_min', 'temp_max', \n",
    "               'humidity', 'wind_speed', 'wind_deg', 'rain_1h', \n",
    "               'rain_3h', 'snow_1h', 'snow_3h', 'clouds_all']]"
   ]
  },
  {
   "cell_type": "code",
   "execution_count": null,
   "id": "b98ddd1d-37be-4063-9f33-fc1e3dd32c9e",
   "metadata": {},
   "outputs": [],
   "source": [
    "print('Amount of hourly weather data: ' + str(len(hourly_weather)))"
   ]
  },
  {
   "cell_type": "code",
   "execution_count": null,
   "id": "35a56717-28ef-40a7-9713-823bfca8f4b1",
   "metadata": {},
   "outputs": [],
   "source": [
    "from datetime import datetime\n",
    "from pytz import timezone # for timezone awareness\n",
    "\n",
    "def format_date_weath(dt):\n",
    "    localtz = timezone('America/New_York')\n",
    "    dt_unaware = datetime.fromtimestamp(dt)\n",
    "    dt_aware = localtz.localize(dt_unaware, is_dst=None)\n",
    "    return datetime.utcfromtimestamp(dt_aware).strftime('%Y%m%d')"
   ]
  },
  {
   "cell_type": "code",
   "execution_count": null,
   "id": "f37f73cd-ef36-4548-bd1f-84db9b3e7045",
   "metadata": {},
   "outputs": [],
   "source": [
    "# Format dates like the other dataframes.\n",
    "hourly_weather['date'] = hourly_weather['dt'].apply(lambda dt: datetime.utcfromtimestamp(dt).strftime('%Y%m%d'))"
   ]
  },
  {
   "cell_type": "markdown",
   "id": "001e42f0-7216-4097-a899-4a200f8d5eab",
   "metadata": {},
   "source": [
    "### Daily weather"
   ]
  },
  {
   "cell_type": "code",
   "execution_count": null,
   "id": "d967a1e3-22fd-44c2-867e-3e4985cedc80",
   "metadata": {},
   "outputs": [],
   "source": [
    "# Daily weather averages and extremes.\n",
    "daily_weather = hourly_weather\n",
    "daily_weather[['rain_1h', 'rain_3h', \n",
    "            'snow_1h', 'snow_3h']] = daily_weather[['rain_1h', 'rain_3h', \n",
    "                                                'snow_1h', 'snow_3h']].fillna(value=0)\n",
    "\n",
    "daily_weather = daily_weather.groupby(['date']).agg({'temp':'mean', 'feels_like':'mean', \n",
    "                                        'temp_min': 'min', 'temp_max': 'max',\n",
    "                                        'humidity': 'mean', 'wind_speed': 'mean',\n",
    "                                        'wind_deg': 'mean', 'rain_1h': 'mean',\n",
    "                                        'rain_3h': 'mean', 'snow_1h': 'mean',\n",
    "                                        'snow_3h': 'mean', 'clouds_all': 'mean'})\n",
    "\n",
    "daily_weather['date'] = daily_weather.index"
   ]
  },
  {
   "cell_type": "code",
   "execution_count": null,
   "id": "cc21e148-d92f-46e4-9d3e-238e0dac7858",
   "metadata": {},
   "outputs": [],
   "source": [
    "# Number of days of weather averages.\n",
    "print('Number of days of weather averages: ' + str(len(daily_weather)))"
   ]
  },
  {
   "cell_type": "markdown",
   "id": "9cb8abf4-29d9-4d32-ba86-55e1e48fd963",
   "metadata": {},
   "source": [
    "### Combined arrest data and weather data\n",
    "\n",
    "This dataframe contains more detail, including each arrest's description and location in the city, by borough. This dataset may or may not be used, depending if we have time to do extra fancy visualizations. Otherwise, the next dataframe showing daily summaries are what we'll focus on first."
   ]
  },
  {
   "cell_type": "code",
   "execution_count": null,
   "id": "433a882f-09eb-4b3a-8711-c38432ad2ede",
   "metadata": {},
   "outputs": [],
   "source": [
    "# Set date as index for merging.\n",
    "arrests.set_index(['date'], inplace=True)"
   ]
  },
  {
   "cell_type": "code",
   "execution_count": null,
   "id": "928ba8e4-a177-4271-9bd9-1daff0f3a5f1",
   "metadata": {},
   "outputs": [],
   "source": [
    "# Merge arrest data and weather data.\n",
    "all_arrests = pd.merge(left=arrests, right=daily_weather, how='left',\n",
    "                        left_index=True, right_index=True)\n",
    "\n",
    "all_arrests = all_arrests[['PD_DESC', 'OFNS_DESC', 'LAW_CODE', 'LAW_CAT_CD',\n",
    "                             'ARREST_BORO', 'AGE_GROUP', \n",
    "                             'PERP_SEX', 'PERP_RACE', 'temp', \n",
    "                             'feels_like', 'temp_min', 'temp_max', 'humidity', \n",
    "                             'wind_speed', 'wind_deg', 'rain_1h', 'rain_3h', \n",
    "                             'snow_1h', 'snow_3h']]\n",
    "\n",
    "all_arrests.rename(columns={'PD_DESC': 'pd_desc', 'OFNS_DESC': 'ofns_desc', \n",
    "                             'LAW_CODE': 'law_code', 'LAW_CAT_CD': 'law_cat_cd',\n",
    "                             'ARREST_BORO': 'arrest_boro',\n",
    "                             'AGE_GROUP': 'age_group', 'PERP_SEX': 'perp_sex',\n",
    "                             'PERP_RACE': 'perp_race'}, inplace=True)\n",
    "\n",
    "all_arrests.dropna(inplace=True)"
   ]
  },
  {
   "cell_type": "code",
   "execution_count": null,
   "id": "2bada54a-907d-410c-b88c-f368c5a8759c",
   "metadata": {},
   "outputs": [],
   "source": [
    "# Total number of arrests with associated weather info.\n",
    "print('Total number of arrests with associated weather info: ' + str(len(all_arrests)))"
   ]
  },
  {
   "cell_type": "code",
   "execution_count": null,
   "id": "687ea170-f480-4ecb-96e9-2b41a64001f7",
   "metadata": {},
   "outputs": [],
   "source": [
    "# Convert borough code to borough name.\n",
    "def get_borough(b):\n",
    "    if b == 'B':\n",
    "        return 'The Bronx'\n",
    "    elif b == 'K':\n",
    "        return 'Brooklyn'\n",
    "    elif b == 'M':\n",
    "        return 'Manhattan'\n",
    "    else:\n",
    "        return 'Queens'"
   ]
  },
  {
   "cell_type": "code",
   "execution_count": null,
   "id": "873ee29d-7982-4bd3-959c-6e16cf35080c",
   "metadata": {},
   "outputs": [],
   "source": [
    "# Clean up categorical text.\n",
    "all_arrests['pd_desc'] = all_arrests['pd_desc'].str.capitalize()\n",
    "all_arrests['ofns_desc'] = all_arrests['ofns_desc'].str.capitalize()\n",
    "all_arrests['arrest_boro'] = all_arrests['arrest_boro'].apply(get_borough)"
   ]
  },
  {
   "cell_type": "markdown",
   "id": "a6bd16bf-796c-49f4-beec-5da436c34fa7",
   "metadata": {},
   "source": [
    "### Write to file"
   ]
  },
  {
   "cell_type": "code",
   "execution_count": null,
   "id": "c9b70f73-6441-4f79-8ee5-317ce54b7b9f",
   "metadata": {},
   "outputs": [],
   "source": [
    "all_arrests.to_csv('./output/all_arrests.csv')"
   ]
  },
  {
   "cell_type": "markdown",
   "id": "614dbc3f-be3c-4452-b0c5-c95480b639ed",
   "metadata": {},
   "source": [
    "### Combined daily arrest data and weather data\n",
    "\n",
    "This dataframe will likely be our primary dataset, since it's giving us a day-by-day arrest count with the mean weather conditions for that day."
   ]
  },
  {
   "cell_type": "code",
   "execution_count": null,
   "id": "e4b18912-dfbf-495c-8f36-b2654cfb749c",
   "metadata": {},
   "outputs": [],
   "source": [
    "daily_arrests = all_arrests.groupby(['date']).count()\n",
    "daily_arrests.drop(columns=['ofns_desc', 'arrest_boro'], inplace=True)\n",
    "daily_arrests.rename(columns={'pd_desc': 'num_arrests'}, inplace=True)\n",
    "daily_arrests = daily_arrests[['num_arrests']]\n",
    "daily_arrests = pd.merge(left=daily_arrests, right=daily_weather, \n",
    "                      how='left', left_index=True, right_index=True)"
   ]
  },
  {
   "cell_type": "code",
   "execution_count": null,
   "id": "41a6aa4f-145d-4dcb-8f3d-e22ab24fac91",
   "metadata": {},
   "outputs": [],
   "source": [
    "# Total number of arrests with associated weather info:\n",
    "# (Compare with total arrests above for sanity check.)\n",
    "print('Total number of arrests with associated weather info: ' + str(daily_arrests['num_arrests'].sum()))"
   ]
  },
  {
   "cell_type": "code",
   "execution_count": null,
   "id": "1a6232bd-02f6-44fe-a9ea-f92bb676bab0",
   "metadata": {},
   "outputs": [],
   "source": [
    "# Total number of days with arrests and associated weather info\n",
    "# Sanity check number of days where we have crime and weather data.\n",
    "# Perhaps check out why this number is a tad lower than the weather df.\n",
    "print('Total number of days with arrests and associated weather info: ' + str(len(daily_arrests)))"
   ]
  },
  {
   "cell_type": "markdown",
   "id": "620892d8-7e69-4c20-9e74-39293abdc6ef",
   "metadata": {},
   "source": [
    "### Write to file"
   ]
  },
  {
   "cell_type": "code",
   "execution_count": null,
   "id": "c71177f4-6073-4219-a8ea-fa45b33f9255",
   "metadata": {},
   "outputs": [],
   "source": [
    "daily_arrests.to_csv('./output/daily_arrests.csv')"
   ]
  },
  {
   "cell_type": "markdown",
   "id": "dc98d34b-21f4-4b3a-8e84-8ca590c0de30",
   "metadata": {},
   "source": [
    "### EDA visualizations\n",
    "\n",
    "Display a quick pairplot to quickly see if there's any correleation between number of arrests per day and weather conditions."
   ]
  },
  {
   "cell_type": "code",
   "execution_count": null,
   "id": "6707fb52-0e4c-4110-b152-761e20df2b5e",
   "metadata": {},
   "outputs": [],
   "source": [
    "daily_arrests.head()"
   ]
  },
  {
   "cell_type": "code",
   "execution_count": null,
   "id": "d8d1ab32-29dc-4b2c-b33d-3a7d97c9c182",
   "metadata": {},
   "outputs": [],
   "source": [
    "import matplotlib.pyplot as plt\n",
    "import seaborn as sns\n",
    "\n",
    "fig, ax = plt.subplots(ncols=2, nrows=4, sharey=True, figsize=(24, 24))\n",
    "ax1, ax2, ax3, ax4, ax5, ax6, ax7, ax8 = ax.flatten()\n",
    "\n",
    "sns.regplot(x=daily_arrests['temp'], y=daily_arrests['num_arrests'], ax=ax1).set_title(\"Temp\")\n",
    "sns.regplot(x=daily_arrests['feels_like'], y=daily_arrests['num_arrests'], ax=ax2).set_title(\"Feels Like\")\n",
    "sns.regplot(x=daily_arrests['temp_min'], y=daily_arrests['num_arrests'], ax=ax3).set_title(\"Temp: Min\")\n",
    "sns.regplot(x=daily_arrests['temp_max'], y=daily_arrests['num_arrests'], ax=ax4).set_title(\"Temp: Max\")\n",
    "sns.regplot(x=daily_arrests['rain_1h'], y=daily_arrests['num_arrests'], ax=ax5).set_title(\"Rain: 1 Hour\")\n",
    "sns.regplot(x=daily_arrests['rain_3h'], y=daily_arrests['num_arrests'], ax=ax6).set_title(\"Rain: 3 Hours\")\n",
    "sns.regplot(x=daily_arrests['snow_1h'], y=daily_arrests['num_arrests'], ax=ax7).set_title(\"Snow: 1 Hour\")\n",
    "sns.regplot(x=daily_arrests['snow_3h'], y=daily_arrests['num_arrests'], ax=ax8).set_title(\"Snow: 3 Hours\")"
   ]
  },
  {
   "cell_type": "markdown",
   "id": "7dfd9f95-59f0-4d66-a922-a0e92297fe17",
   "metadata": {},
   "source": [
    "### Remarks\n",
    "\n",
    "There doesn't seem to be much correlation when we look at all types of crime. Let's try and narrow it down to violent crimes and see what happens. Or street crimes and see what happens. Some crime types may be sensitive to the weather. Let's see if that's true."
   ]
  }
 ],
 "metadata": {
  "kernelspec": {
   "display_name": "Python 3 (ipykernel)",
   "language": "python",
   "name": "python3"
  },
  "language_info": {
   "codemirror_mode": {
    "name": "ipython",
    "version": 3
   },
   "file_extension": ".py",
   "mimetype": "text/x-python",
   "name": "python",
   "nbconvert_exporter": "python",
   "pygments_lexer": "ipython3",
   "version": "3.8.12"
  }
 },
 "nbformat": 4,
 "nbformat_minor": 5
}
