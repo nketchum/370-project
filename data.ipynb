{
 "cells": [
  {
   "cell_type": "markdown",
   "id": "d7bb38ae-bc90-41b7-9dba-6d31a8375416",
   "metadata": {},
   "source": [
    "## Data Merging and Cleaning\n",
    "\n",
    "This file assembles two \"master\" dataframes for experimentation. The first dataframe contains every crime throughout each day, with associated daily weather information. The second dataframe contains the number of arrests each day with associated mean weather information."
   ]
  },
  {
   "cell_type": "code",
   "execution_count": null,
   "id": "82ff9241-214c-4f6d-84c9-0a1c7cf743a6",
   "metadata": {},
   "outputs": [],
   "source": [
    "import pandas as pd"
   ]
  },
  {
   "cell_type": "markdown",
   "id": "ac0cfe8e-1f1c-46ab-b1a2-1398e596dd8e",
   "metadata": {},
   "source": [
    "### Arrest Data"
   ]
  },
  {
   "cell_type": "code",
   "execution_count": null,
   "id": "08e6a481-53d6-4b12-8d6f-2066986b9498",
   "metadata": {},
   "outputs": [],
   "source": [
    "nypd_historic = pd.read_csv('./input/NYPD_Arrests_Data__Historic_.csv')\n",
    "nypd_historic.head()"
   ]
  },
  {
   "cell_type": "code",
   "execution_count": null,
   "id": "b4298b08-bdfc-4d88-be0c-142351ff8992",
   "metadata": {},
   "outputs": [],
   "source": [
    "nypd_historic.describe()"
   ]
  },
  {
   "cell_type": "code",
   "execution_count": null,
   "id": "753e9ec8-2944-4d00-a366-8a1298f6eca1",
   "metadata": {},
   "outputs": [],
   "source": [
    "nypd_current = pd.read_csv('./input/NYPD_Arrest_Data__Year_to_Date_.csv')\n",
    "nypd_current.head()"
   ]
  },
  {
   "cell_type": "code",
   "execution_count": null,
   "id": "f7903acf-852d-4aaf-91d5-e874791d4eaa",
   "metadata": {},
   "outputs": [],
   "source": [
    "nypd_current.describe()"
   ]
  },
  {
   "cell_type": "code",
   "execution_count": null,
   "id": "e0f78e19-381d-4b92-aa0a-67d4302a57cb",
   "metadata": {},
   "outputs": [],
   "source": [
    "len(nypd_current['ARREST_DATE'].unique()) + len(nypd_historic['ARREST_DATE'].unique())"
   ]
  },
  {
   "cell_type": "code",
   "execution_count": null,
   "id": "85de554d-be89-4a77-b8ec-b848f3194745",
   "metadata": {},
   "outputs": [],
   "source": [
    "len(nypd_current['ARREST_DATE']) + len(nypd_historic['ARREST_DATE'])"
   ]
  },
  {
   "cell_type": "code",
   "execution_count": null,
   "id": "157689b9-5d0f-41f3-abe9-99f12d27ac9e",
   "metadata": {},
   "outputs": [],
   "source": [
    "nypd = nypd_current.append(nypd_historic)\n",
    "nypd.head()"
   ]
  },
  {
   "cell_type": "code",
   "execution_count": null,
   "id": "2aa61b9e-5f08-47b0-88c0-b56636fbafc5",
   "metadata": {},
   "outputs": [],
   "source": [
    "len(nypd)"
   ]
  },
  {
   "cell_type": "code",
   "execution_count": null,
   "id": "f90628fa-15d8-48fb-b458-fa36c8baffaa",
   "metadata": {},
   "outputs": [],
   "source": [
    "def format_date_nypd(date):\n",
    "    split = date.split('/')\n",
    "    return split[2] + split[1] + split[0]"
   ]
  },
  {
   "cell_type": "code",
   "execution_count": null,
   "id": "d810c725-fe89-428e-a02b-34489b385c46",
   "metadata": {},
   "outputs": [],
   "source": [
    "nypd['date'] = nypd['ARREST_DATE'].apply(format_date_nypd)\n",
    "nypd_sum = nypd.groupby(['date']).sum()\n",
    "nypd_sum.head()"
   ]
  },
  {
   "cell_type": "code",
   "execution_count": null,
   "id": "6a58159d-c555-429b-b05e-ebc52c412886",
   "metadata": {},
   "outputs": [],
   "source": [
    "len(nypd_sum)"
   ]
  },
  {
   "cell_type": "markdown",
   "id": "75f98e76-9b97-4014-bcfb-f5f407f8be1a",
   "metadata": {},
   "source": [
    "### Weather Data\n",
    "#### Hourly weather"
   ]
  },
  {
   "cell_type": "code",
   "execution_count": null,
   "id": "40839b84-fe7e-43ab-b6ed-13ec64b27576",
   "metadata": {},
   "outputs": [],
   "source": [
    "weath = pd.read_csv('./input/daily_new_york_data.csv')\n",
    "weath = weath[['dt', 'temp', 'feels_like', 'temp_min', 'temp_max', \n",
    "               'humidity', 'wind_speed', 'wind_deg', 'rain_1h', \n",
    "               'rain_3h', 'snow_1h', 'snow_3h', 'clouds_all']]\n",
    "weath.head()"
   ]
  },
  {
   "cell_type": "code",
   "execution_count": null,
   "id": "b98ddd1d-37be-4063-9f33-fc1e3dd32c9e",
   "metadata": {},
   "outputs": [],
   "source": [
    "len(weath)"
   ]
  },
  {
   "cell_type": "code",
   "execution_count": null,
   "id": "7dff5059-5865-4725-a695-8c09a2c312e0",
   "metadata": {},
   "outputs": [],
   "source": [
    "# weath.dtypes"
   ]
  },
  {
   "cell_type": "code",
   "execution_count": null,
   "id": "35a56717-28ef-40a7-9713-823bfca8f4b1",
   "metadata": {},
   "outputs": [],
   "source": [
    "from datetime import datetime\n",
    "from pytz import timezone # for timezone awareness\n",
    "\n",
    "def format_date_weath(dt):\n",
    "    localtz = timezone('America/New_York')\n",
    "    dt_unaware = datetime.fromtimestamp(dt)\n",
    "    dt_aware = localtz.localize(dt_unaware, is_dst=None)\n",
    "    return datetime.utcfromtimestamp(dt_aware).strftime('%Y%m%d')"
   ]
  },
  {
   "cell_type": "code",
   "execution_count": null,
   "id": "f37f73cd-ef36-4548-bd1f-84db9b3e7045",
   "metadata": {},
   "outputs": [],
   "source": [
    "weath['date'] = weath['dt'].apply(lambda dt: datetime.utcfromtimestamp(dt).strftime('%Y%m%d'))\n",
    "weath.head()"
   ]
  },
  {
   "cell_type": "code",
   "execution_count": null,
   "id": "d967a1e3-22fd-44c2-867e-3e4985cedc80",
   "metadata": {},
   "outputs": [],
   "source": [
    "weath_mean = weath\n",
    "weath_mean[['rain_1h', 'rain_3h', \n",
    "            'snow_1h', 'snow_3h']] = weath_mean[['rain_1h', 'rain_3h', \n",
    "                                                'snow_1h', 'snow_3h']].fillna(value=0)\n",
    "\n",
    "weath_mean = weath.groupby(['date']).agg({'temp':'mean', 'feels_like':'mean', \n",
    "                                        'temp_min': 'min', 'temp_max': 'max',\n",
    "                                        'humidity': 'mean', 'wind_speed': 'mean',\n",
    "                                        'wind_deg': 'mean', 'rain_1h': 'mean',\n",
    "                                        'rain_3h': 'mean', 'snow_1h': 'mean',\n",
    "                                        'snow_3h': 'mean', 'clouds_all': 'mean'})\n",
    "\n",
    "weath_mean['date'] = weath_mean.index\n",
    "weath_mean.head()"
   ]
  },
  {
   "cell_type": "code",
   "execution_count": null,
   "id": "96699ede-08f9-44fa-981e-1c94e1b8c1c2",
   "metadata": {},
   "outputs": [],
   "source": [
    "weath_mean.dtypes"
   ]
  },
  {
   "cell_type": "code",
   "execution_count": null,
   "id": "cc21e148-d92f-46e4-9d3e-238e0dac7858",
   "metadata": {},
   "outputs": [],
   "source": [
    "len(weath_mean)"
   ]
  },
  {
   "cell_type": "markdown",
   "id": "9cb8abf4-29d9-4d32-ba86-55e1e48fd963",
   "metadata": {},
   "source": [
    "### Daily crimes: each crime with weather data\n",
    "\n",
    "This dataframe contains more detail, including each arrest's description and location in the city, by borough. This dataset may or may not be used, depending if we have time to do extra fancy visualizations. Otherwise, the next dataframe showing daily summaries are what we'll focus on first."
   ]
  },
  {
   "cell_type": "code",
   "execution_count": null,
   "id": "928ba8e4-a177-4271-9bd9-1daff0f3a5f1",
   "metadata": {},
   "outputs": [],
   "source": [
    "daily_nypd = nypd.set_index(['date'])\n",
    "daily_crimes = pd.merge(left=daily_nypd, right=weath_mean, how='left',\n",
    "                        left_index=True, right_index=True)\n",
    "daily_crimes = daily_crimes[['PD_DESC', 'OFNS_DESC', 'ARREST_BORO', 'temp', \n",
    "                             'feels_like', 'temp_min', 'temp_max', 'humidity', \n",
    "                             'wind_speed', 'wind_deg', 'rain_1h', 'rain_3h', \n",
    "                             'snow_1h', 'snow_3h']]\n",
    "daily_crimes.rename(columns={'PD_DESC': 'pd_desc', 'OFNS_DESC': 'ofns_desc', \n",
    "                             'ARREST_BORO': 'arrest_boro'}, inplace=True)\n",
    "daily_crimes.dropna(inplace=True)\n",
    "daily_crimes.head()\n",
    "# daily_crimes[760:810] # For checking that weather is matched with the correct date."
   ]
  },
  {
   "cell_type": "code",
   "execution_count": null,
   "id": "d04a81bb-1963-4be8-b338-6b169ae5a467",
   "metadata": {},
   "outputs": [],
   "source": [
    "len(daily_nypd)"
   ]
  },
  {
   "cell_type": "code",
   "execution_count": null,
   "id": "bbaf60f7-f096-42b4-a51c-27b229ddc2be",
   "metadata": {},
   "outputs": [],
   "source": [
    "# daily_crimes.dtypes"
   ]
  },
  {
   "cell_type": "code",
   "execution_count": null,
   "id": "2bada54a-907d-410c-b88c-f368c5a8759c",
   "metadata": {},
   "outputs": [],
   "source": [
    "len(daily_crimes)"
   ]
  },
  {
   "cell_type": "code",
   "execution_count": null,
   "id": "687ea170-f480-4ecb-96e9-2b41a64001f7",
   "metadata": {},
   "outputs": [],
   "source": [
    "def get_borough(b):\n",
    "    if b == 'B':\n",
    "        return 'The Bronx'\n",
    "    elif b == 'K':\n",
    "        return 'Brooklyn'\n",
    "    elif b == 'M':\n",
    "        return 'Manhattan'\n",
    "    else:\n",
    "        return 'Queens'"
   ]
  },
  {
   "cell_type": "code",
   "execution_count": null,
   "id": "873ee29d-7982-4bd3-959c-6e16cf35080c",
   "metadata": {},
   "outputs": [],
   "source": [
    "daily_crimes['pd_desc'] = daily_crimes['pd_desc'].str.capitalize()\n",
    "daily_crimes['ofns_desc'] = daily_crimes['ofns_desc'].str.capitalize()\n",
    "daily_crimes['arrest_boro'] = daily_crimes['arrest_boro'].apply(get_borough)\n",
    "daily_crimes.head()"
   ]
  },
  {
   "cell_type": "code",
   "execution_count": null,
   "id": "04659403-9ed4-44d5-8989-1530e3350e6a",
   "metadata": {},
   "outputs": [],
   "source": [
    "len(daily_crimes)"
   ]
  },
  {
   "cell_type": "markdown",
   "id": "a6bd16bf-796c-49f4-beec-5da436c34fa7",
   "metadata": {},
   "source": [
    "### Write to file"
   ]
  },
  {
   "cell_type": "code",
   "execution_count": null,
   "id": "c9b70f73-6441-4f79-8ee5-317ce54b7b9f",
   "metadata": {},
   "outputs": [],
   "source": [
    "daily_crimes.to_csv('./output/daily_crimes.csv')"
   ]
  },
  {
   "cell_type": "markdown",
   "id": "614dbc3f-be3c-4452-b0c5-c95480b639ed",
   "metadata": {},
   "source": [
    "### Daily means: day's arrest count and weather means\n",
    "\n",
    "This dataframe will likely be our primary dataset, since it's giving us a day-by-day arrest count with the mean weather conditions for that day."
   ]
  },
  {
   "cell_type": "code",
   "execution_count": null,
   "id": "e4b18912-dfbf-495c-8f36-b2654cfb749c",
   "metadata": {},
   "outputs": [],
   "source": [
    "daily_mean = daily_crimes.groupby(['date']).count()\n",
    "daily_mean.drop(columns=['ofns_desc', 'arrest_boro'], inplace=True)\n",
    "daily_mean.rename(columns={'pd_desc': 'num_arrests'}, inplace=True)\n",
    "daily_mean = daily_mean[['num_arrests']]\n",
    "daily_mean = pd.merge(left=daily_mean, right=weath_mean, \n",
    "                      how='left', left_index=True, right_index=True)\n",
    "daily_mean.head()"
   ]
  },
  {
   "cell_type": "code",
   "execution_count": null,
   "id": "41a6aa4f-145d-4dcb-8f3d-e22ab24fac91",
   "metadata": {},
   "outputs": [],
   "source": [
    "daily_mean['num_arrests'].sum()"
   ]
  },
  {
   "cell_type": "code",
   "execution_count": null,
   "id": "fd159f95-d320-46ba-a4f7-95da94b14910",
   "metadata": {},
   "outputs": [],
   "source": [
    "# daily_mean.dtypes"
   ]
  },
  {
   "cell_type": "code",
   "execution_count": null,
   "id": "1a6232bd-02f6-44fe-a9ea-f92bb676bab0",
   "metadata": {},
   "outputs": [],
   "source": [
    "len(daily_mean)"
   ]
  },
  {
   "cell_type": "markdown",
   "id": "620892d8-7e69-4c20-9e74-39293abdc6ef",
   "metadata": {},
   "source": [
    "### Write to file"
   ]
  },
  {
   "cell_type": "code",
   "execution_count": null,
   "id": "c71177f4-6073-4219-a8ea-fa45b33f9255",
   "metadata": {},
   "outputs": [],
   "source": [
    "daily_mean.to_csv('./output/daily_mean.csv')"
   ]
  },
  {
   "cell_type": "code",
   "execution_count": null,
   "id": "6de60815-2b5a-4b0a-8c25-a9bca9088820",
   "metadata": {},
   "outputs": [],
   "source": []
  }
 ],
 "metadata": {
  "kernelspec": {
   "display_name": "Python 3 (ipykernel)",
   "language": "python",
   "name": "python3"
  },
  "language_info": {
   "codemirror_mode": {
    "name": "ipython",
    "version": 3
   },
   "file_extension": ".py",
   "mimetype": "text/x-python",
   "name": "python",
   "nbconvert_exporter": "python",
   "pygments_lexer": "ipython3",
   "version": "3.8.12"
  }
 },
 "nbformat": 4,
 "nbformat_minor": 5
}
