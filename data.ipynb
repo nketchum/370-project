{
 "cells": [
  {
   "cell_type": "markdown",
   "id": "d7bb38ae-bc90-41b7-9dba-6d31a8375416",
   "metadata": {},
   "source": [
    "## Data Merging and Cleaning\n",
    "\n",
    "This file assembles two \"master\" dataframes for experimentation. The first dataframe contains every crime throughout each day, with associated daily weather information. The second dataframe contains the number of arrests each day with associated mean weather information.\n",
    "\n",
    "### How to use:\n",
    "\n",
    "1. **Download CSV data and place in the ./input directory**\n",
    "    - [NYPD_Arrest_Data__Year_to_Date_.csv](https://drive.google.com/file/d/1Ee7dSLLK7EdiMwiE94uK3p0SiDd7vTrP/view?usp=sharing)\n",
    "    - [NYPD_Arrests_Data__Historic_.csv](https://drive.google.com/file/d/1g_Iok1V2NnWKBy0r9qGG7XavUlOhDzWe/view?usp=sharing)\n",
    "    - [daily_new_york_data.csv](https://drive.google.com/file/d/1_B0xP4ORTzHCG9S4LaEB_yEjC1mvITXU/view?usp=sharing)\n",
    "2. **Run cells in order from top to bottom**\n",
    "    - Run all cells in order\n",
    "    - Run all cells only once\n",
    "3. **View output in the ./output directory**\n",
    "    - We can either output files in our program, or call this module directly from another module to receive this data."
   ]
  },
  {
   "cell_type": "code",
   "execution_count": 1,
   "id": "82ff9241-214c-4f6d-84c9-0a1c7cf743a6",
   "metadata": {},
   "outputs": [],
   "source": [
    "import numpy as np\n",
    "import pandas as pd"
   ]
  },
  {
   "cell_type": "markdown",
   "id": "ac0cfe8e-1f1c-46ab-b1a2-1398e596dd8e",
   "metadata": {},
   "source": [
    "### Arrests source data\n",
    "\n",
    "We can load all arrests, or filter by law codes or by level of offense. If we don't want to filter anything, then everything in the next two cells should be commented out. If we want to filter by one or both, uncomment one or both cells and set the variables to the desired values.\n",
    "\n",
    "**Dataset**\n",
    "   - Historic arrest dataset: https://data.cityofnewyork.us/Public-Safety/NYPD-Arrest-Data-Year-to-Date-/uip8-fykc\n",
    "   - Current arrest dataset: https://data.cityofnewyork.us/Public-Safety/NYPD-Arrests-Data-Historic-/8h9b-rp9u\n",
    "   - New York State Penal Law Offenses: https://ypdcrime.com/penallawlist.php?tfm_order=DESC&tfm_orderby=code\n",
    "    \n",
    "**Resources**\n",
    "   - New York State Penal Law Offenses: https://ypdcrime.com/penallawlist.php?tfm_order=DESC&tfm_orderby=code\n",
    "   - Laws of New York: https://ypdcrime.com/penal.law/"
   ]
  },
  {
   "cell_type": "markdown",
   "id": "95a141f9-28af-4f3b-9c0b-03405465c26f",
   "metadata": {},
   "source": [
    "#### Load data"
   ]
  },
  {
   "cell_type": "code",
   "execution_count": 2,
   "id": "08e6a481-53d6-4b12-8d6f-2066986b9498",
   "metadata": {},
   "outputs": [],
   "source": [
    "historic_arrests = pd.read_csv('./input/NYPD_Arrests_Data__Historic_.csv')"
   ]
  },
  {
   "cell_type": "code",
   "execution_count": 3,
   "id": "753e9ec8-2944-4d00-a366-8a1298f6eca1",
   "metadata": {},
   "outputs": [],
   "source": [
    "current_arrests = pd.read_csv('./input/NYPD_Arrest_Data__Year_to_Date_.csv')"
   ]
  },
  {
   "cell_type": "code",
   "execution_count": 4,
   "id": "e0f78e19-381d-4b92-aa0a-67d4302a57cb",
   "metadata": {},
   "outputs": [
    {
     "name": "stdout",
     "output_type": "stream",
     "text": [
      "Number of unique dates: 5752\n"
     ]
    }
   ],
   "source": [
    "# Sanity check.\n",
    "print('Number of unique dates: ' + str(len(current_arrests['ARREST_DATE'].unique()) + len(historic_arrests['ARREST_DATE'].unique())))"
   ]
  },
  {
   "cell_type": "code",
   "execution_count": 5,
   "id": "85de554d-be89-4a77-b8ec-b848f3194745",
   "metadata": {},
   "outputs": [
    {
     "name": "stdout",
     "output_type": "stream",
     "text": [
      "Number of arrests: 5268668\n"
     ]
    }
   ],
   "source": [
    "# Sanity check.\n",
    "print('Number of arrests: ' + str(len(current_arrests['ARREST_DATE']) + len(historic_arrests['ARREST_DATE'])))"
   ]
  },
  {
   "cell_type": "code",
   "execution_count": 6,
   "id": "157689b9-5d0f-41f3-abe9-99f12d27ac9e",
   "metadata": {},
   "outputs": [],
   "source": [
    "# Append historic data to current data for a full list.\n",
    "total_arrests = current_arrests.append(historic_arrests)"
   ]
  },
  {
   "cell_type": "markdown",
   "id": "9478869d-f259-4003-9b1d-c426cb8f5cb4",
   "metadata": {},
   "source": [
    "#### Format data"
   ]
  },
  {
   "cell_type": "code",
   "execution_count": null,
   "id": "62f9ee36-faa6-4e50-abc9-90b0b1f73aea",
   "metadata": {},
   "outputs": [],
   "source": [
    "total_arrests.dropna(subset=['PD_DESC', 'OFNS_DESC'], inplace=True)"
   ]
  },
  {
   "cell_type": "code",
   "execution_count": 7,
   "id": "f90628fa-15d8-48fb-b458-fa36c8baffaa",
   "metadata": {},
   "outputs": [],
   "source": [
    "def format_date_arrests(date):\n",
    "    split = date.split('/')\n",
    "    return split[2] + split[0] + split[1]"
   ]
  },
  {
   "cell_type": "code",
   "execution_count": 8,
   "id": "d810c725-fe89-428e-a02b-34489b385c46",
   "metadata": {},
   "outputs": [],
   "source": [
    "total_arrests['date'] = total_arrests['ARREST_DATE'].apply(format_date_arrests)"
   ]
  },
  {
   "cell_type": "code",
   "execution_count": 9,
   "id": "1185867a-fd98-4df0-93f9-2c5f5b9fe963",
   "metadata": {},
   "outputs": [],
   "source": [
    "# Only return abbreviated NY penal codes.\n",
    "def get_law_code_prefix(code):\n",
    "    if type(code) == str:\n",
    "        if code[:3] == 'PL ': \n",
    "            return code[3:6] # First three numerals.\n",
    "    return np.nan"
   ]
  },
  {
   "cell_type": "code",
   "execution_count": 10,
   "id": "30643959-a93b-43bd-9779-f3248430f8e1",
   "metadata": {},
   "outputs": [],
   "source": [
    "# Create a column with just the first five characters of the law code for filtering.\n",
    "total_arrests['law_code_abbr'] = total_arrests['LAW_CODE'].apply(get_law_code_prefix)"
   ]
  },
  {
   "cell_type": "code",
   "execution_count": 34,
   "id": "3fd07e8e-cc55-4671-badb-bb2200a692c4",
   "metadata": {},
   "outputs": [],
   "source": [
    "# Label each arrest with an offense category using the\n",
    "# law_code_abbr column to identify the offense.\n",
    "\n",
    "offenses = {\n",
    "    'Anticipatory Offenses': [100, 115],\n",
    "    'Offenses Against the Person': [120, 135],\n",
    "    'Damage to Property Offenses': [140, 150],\n",
    "    'Theft Offenses': [155, 165],\n",
    "    'Fraud Offenses': [170, 190],\n",
    "    'Public Administration Offenses': [195, 215],\n",
    "    'Public Health, Morals Offenses': [220, 235],\n",
    "    'Public Order, Privacy': [240, 250],\n",
    "    'Family, Welfare of Children': [255, 263],\n",
    "    'Public Safety Offenses': [265, 275]\n",
    "}\n",
    "\n",
    "def get_offense(code):\n",
    "    code = int(code)\n",
    "    for key, value in offenses.items():\n",
    "        code_min = value[0]\n",
    "        code_max = value[1]\n",
    "        if (code >= code_min) & (code <= code_max):\n",
    "            return key"
   ]
  },
  {
   "cell_type": "code",
   "execution_count": 12,
   "id": "b5f037ad-c670-4030-985b-fd40933af78a",
   "metadata": {},
   "outputs": [],
   "source": [
    "# Ignore arrests that are not categorized.\n",
    "total_arrests.dropna(subset=['law_code_abbr'], inplace=True)\n",
    "\n",
    "# Add offense categories to arrests for filtering later.\n",
    "total_arrests['law_code_desc'] = total_arrests['law_code_abbr'].apply(get_offense)"
   ]
  },
  {
   "cell_type": "code",
   "execution_count": 13,
   "id": "5c7a738b-e63f-4018-879c-f7d2d6019957",
   "metadata": {},
   "outputs": [],
   "source": [
    "# Save total_arrests as a checkpoint for debugging.\n",
    "arrests = total_arrests"
   ]
  },
  {
   "cell_type": "markdown",
   "id": "75f98e76-9b97-4014-bcfb-f5f407f8be1a",
   "metadata": {},
   "source": [
    "### Weather source data"
   ]
  },
  {
   "cell_type": "markdown",
   "id": "6546bf67-504f-4185-a526-d869479d6e77",
   "metadata": {},
   "source": [
    "#### Hourly weather"
   ]
  },
  {
   "cell_type": "code",
   "execution_count": 14,
   "id": "40839b84-fe7e-43ab-b6ed-13ec64b27576",
   "metadata": {},
   "outputs": [],
   "source": [
    "hourly_weather = pd.read_csv('./input/daily_new_york_data.csv')\n",
    "\n",
    "# Grabbing more than temperature just so they're handy if we want to play a bit.\n",
    "hourly_weather = hourly_weather[['dt', 'temp', 'feels_like', 'temp_min', 'temp_max', \n",
    "               'humidity', 'wind_speed', 'wind_deg', 'rain_1h', \n",
    "               'rain_3h', 'snow_1h', 'snow_3h', 'clouds_all']]"
   ]
  },
  {
   "cell_type": "code",
   "execution_count": 15,
   "id": "b98ddd1d-37be-4063-9f33-fc1e3dd32c9e",
   "metadata": {},
   "outputs": [
    {
     "name": "stdout",
     "output_type": "stream",
     "text": [
      "Total of hours of weather data: 130490\n"
     ]
    }
   ],
   "source": [
    "# Sanity check.\n",
    "print('Total of hours of weather data: ' + str(len(hourly_weather)))"
   ]
  },
  {
   "cell_type": "code",
   "execution_count": 16,
   "id": "35a56717-28ef-40a7-9713-823bfca8f4b1",
   "metadata": {},
   "outputs": [],
   "source": [
    "from datetime import datetime\n",
    "from pytz import timezone # for timezone awareness\n",
    "\n",
    "def format_date_weath(dt):\n",
    "    localtz = timezone('America/New_York')\n",
    "    dt_unaware = datetime.fromtimestamp(dt)\n",
    "    dt_aware = localtz.localize(dt_unaware, is_dst=None)\n",
    "    return datetime.utcfromtimestamp(dt_aware).strftime('%Y%m%d')"
   ]
  },
  {
   "cell_type": "code",
   "execution_count": 17,
   "id": "f37f73cd-ef36-4548-bd1f-84db9b3e7045",
   "metadata": {},
   "outputs": [],
   "source": [
    "# Format dates like the other dataframes.\n",
    "hourly_weather['date'] = hourly_weather['dt'].apply(lambda dt: datetime.utcfromtimestamp(dt).strftime('%Y%m%d'))"
   ]
  },
  {
   "cell_type": "markdown",
   "id": "001e42f0-7216-4097-a899-4a200f8d5eab",
   "metadata": {},
   "source": [
    "#### Daily weather"
   ]
  },
  {
   "cell_type": "code",
   "execution_count": 18,
   "id": "d967a1e3-22fd-44c2-867e-3e4985cedc80",
   "metadata": {},
   "outputs": [],
   "source": [
    "# Daily weather averages and extremes.\n",
    "daily_weather = hourly_weather\n",
    "\n",
    "daily_weather[['rain_1h', 'rain_3h', \n",
    "            'snow_1h', 'snow_3h']] = daily_weather[['rain_1h', 'rain_3h', \n",
    "                                                'snow_1h', 'snow_3h']].fillna(value=0)\n",
    "\n",
    "daily_weather = daily_weather.groupby(['date']).agg({'temp':'mean', 'feels_like':'mean', \n",
    "                                        'temp_min': 'min', 'temp_max': 'max',\n",
    "                                        'humidity': 'mean', 'wind_speed': 'mean',\n",
    "                                        'wind_deg': 'mean', 'rain_1h': 'mean',\n",
    "                                        'rain_3h': 'mean', 'snow_1h': 'mean',\n",
    "                                        'snow_3h': 'mean', 'clouds_all': 'mean'})\n",
    "\n",
    "daily_weather['date'] = daily_weather.index"
   ]
  },
  {
   "cell_type": "code",
   "execution_count": 19,
   "id": "cc21e148-d92f-46e4-9d3e-238e0dac7858",
   "metadata": {},
   "outputs": [
    {
     "name": "stdout",
     "output_type": "stream",
     "text": [
      "Total number of days: 5071\n"
     ]
    }
   ],
   "source": [
    "# Sanity check.\n",
    "print('Total number of days: ' + str(len(daily_weather)))"
   ]
  },
  {
   "cell_type": "markdown",
   "id": "9cb8abf4-29d9-4d32-ba86-55e1e48fd963",
   "metadata": {},
   "source": [
    "### All arrests\n",
    "\n",
    "This dataframe contains more detail, including each arrest's description and location in the city, by borough. This dataset may or may not be used, depending if we have time to do extra fancy visualizations. Otherwise, the next dataframe showing daily summaries are what we'll focus on first."
   ]
  },
  {
   "cell_type": "code",
   "execution_count": 20,
   "id": "433a882f-09eb-4b3a-8711-c38432ad2ede",
   "metadata": {},
   "outputs": [],
   "source": [
    "# Set date as index for merging.\n",
    "arrests.set_index(['date'], inplace=True)"
   ]
  },
  {
   "cell_type": "code",
   "execution_count": 21,
   "id": "928ba8e4-a177-4271-9bd9-1daff0f3a5f1",
   "metadata": {},
   "outputs": [],
   "source": [
    "# Merge arrest data and weather data.\n",
    "all_arrests = pd.merge(left=arrests, right=daily_weather, how='left',\n",
    "                        left_index=True, right_index=True)\n",
    "\n",
    "all_arrests.dropna(inplace=True)\n",
    "\n",
    "all_arrests.columns = all_arrests.columns.str.lower()\n",
    "\n",
    "all_arrests = all_arrests[['pd_desc', 'ofns_desc', 'law_code', 'law_cat_cd', \n",
    "                           'arrest_boro', 'age_group', 'perp_sex', 'perp_race', 'temp', \n",
    "                           'feels_like', 'temp_min', 'temp_max', 'humidity', \n",
    "                           'wind_speed', 'wind_deg', 'rain_1h', 'rain_3h', \n",
    "                           'snow_1h', 'snow_3h', 'law_code_abbr', 'law_code_desc']]"
   ]
  },
  {
   "cell_type": "code",
   "execution_count": 22,
   "id": "2bada54a-907d-410c-b88c-f368c5a8759c",
   "metadata": {},
   "outputs": [
    {
     "name": "stdout",
     "output_type": "stream",
     "text": [
      "Total number of arrests: 0\n"
     ]
    }
   ],
   "source": [
    "# Sanity check.\n",
    "print('Total number of arrests: ' + str(len(all_arrests)))"
   ]
  },
  {
   "cell_type": "code",
   "execution_count": 23,
   "id": "687ea170-f480-4ecb-96e9-2b41a64001f7",
   "metadata": {},
   "outputs": [],
   "source": [
    "# Convert borough code to borough name.\n",
    "def get_borough(b):\n",
    "    if b == 'B':\n",
    "        return 'The Bronx'\n",
    "    elif b == 'K':\n",
    "        return 'Brooklyn'\n",
    "    elif b == 'M':\n",
    "        return 'Manhattan'\n",
    "    else:\n",
    "        return 'Queens'"
   ]
  },
  {
   "cell_type": "code",
   "execution_count": 24,
   "id": "873ee29d-7982-4bd3-959c-6e16cf35080c",
   "metadata": {},
   "outputs": [],
   "source": [
    "# Clean up categorical text.\n",
    "all_arrests['pd_desc'] = all_arrests['pd_desc'].str.capitalize()\n",
    "all_arrests['ofns_desc'] = all_arrests['ofns_desc'].str.capitalize()\n",
    "all_arrests['arrest_boro'] = all_arrests['arrest_boro'].apply(get_borough)"
   ]
  },
  {
   "cell_type": "markdown",
   "id": "a6bd16bf-796c-49f4-beec-5da436c34fa7",
   "metadata": {},
   "source": [
    "#### Write to file"
   ]
  },
  {
   "cell_type": "code",
   "execution_count": 25,
   "id": "c9b70f73-6441-4f79-8ee5-317ce54b7b9f",
   "metadata": {},
   "outputs": [],
   "source": [
    "all_arrests.to_csv('./output/all_arrests.csv')"
   ]
  },
  {
   "cell_type": "markdown",
   "id": "614dbc3f-be3c-4452-b0c5-c95480b639ed",
   "metadata": {},
   "source": [
    "### Daily Arrests\n",
    "\n",
    "This dataframe will likely be our primary dataset, since it's giving us a day-by-day arrest count with the mean weather conditions for that day."
   ]
  },
  {
   "cell_type": "code",
   "execution_count": 26,
   "id": "6a571d7a-4fa6-4042-8153-8105411230f5",
   "metadata": {},
   "outputs": [],
   "source": [
    "daily_arrests = all_arrests"
   ]
  },
  {
   "cell_type": "markdown",
   "id": "27123989-17f3-42c7-bc39-be3d5b7b916b",
   "metadata": {},
   "source": [
    "#### Filter arrests by law code and level"
   ]
  },
  {
   "cell_type": "code",
   "execution_count": 27,
   "id": "a420578e-3a61-4c34-8f40-909635eecd2e",
   "metadata": {},
   "outputs": [],
   "source": [
    "# Filter arrests.\n",
    "daily_arrests = daily_arrests[daily_arrests['law_code_desc'] == 'Offenses Against the Person']\n",
    "daily_arrests = daily_arrests[daily_arrests['law_cat_cd'] == 'F']"
   ]
  },
  {
   "cell_type": "code",
   "execution_count": 28,
   "id": "e4b18912-dfbf-495c-8f36-b2654cfb749c",
   "metadata": {},
   "outputs": [],
   "source": [
    "# Aggregate arrests into daily summaries.\n",
    "daily_arrests = daily_arrests.groupby(['date']).count()\n",
    "daily_arrests.drop(columns=['ofns_desc', 'law_code_desc', 'arrest_boro'], inplace=True)\n",
    "daily_arrests.rename(columns={'pd_desc': 'num_arrests'}, inplace=True)\n",
    "daily_arrests = daily_arrests[['num_arrests']]\n",
    "daily_arrests = pd.merge(left=daily_arrests, right=daily_weather, \n",
    "                      how='left', left_index=True, right_index=True)"
   ]
  },
  {
   "cell_type": "code",
   "execution_count": 29,
   "id": "41a6aa4f-145d-4dcb-8f3d-e22ab24fac91",
   "metadata": {},
   "outputs": [
    {
     "name": "stdout",
     "output_type": "stream",
     "text": [
      "Total number of daily arrests: 0\n"
     ]
    }
   ],
   "source": [
    "# Sanity check.\n",
    "print('Total number of daily arrests: ' + str(daily_arrests['num_arrests'].sum()))"
   ]
  },
  {
   "cell_type": "code",
   "execution_count": 30,
   "id": "1a6232bd-02f6-44fe-a9ea-f92bb676bab0",
   "metadata": {},
   "outputs": [
    {
     "name": "stdout",
     "output_type": "stream",
     "text": [
      "Total number of days: 0\n"
     ]
    }
   ],
   "source": [
    "# Sanity check.\n",
    "print('Total number of days: ' + str(len(daily_arrests)))"
   ]
  },
  {
   "cell_type": "markdown",
   "id": "620892d8-7e69-4c20-9e74-39293abdc6ef",
   "metadata": {},
   "source": [
    "#### Write to file"
   ]
  },
  {
   "cell_type": "code",
   "execution_count": 31,
   "id": "c71177f4-6073-4219-a8ea-fa45b33f9255",
   "metadata": {},
   "outputs": [],
   "source": [
    "daily_arrests.to_csv('./output/daily_arrests.csv')"
   ]
  },
  {
   "cell_type": "markdown",
   "id": "dc98d34b-21f4-4b3a-8e84-8ca590c0de30",
   "metadata": {},
   "source": [
    "### EDA\n",
    "\n",
    "Display a quick pairplot to quickly see if there's any correleation between number of arrests per day and weather conditions."
   ]
  },
  {
   "cell_type": "code",
   "execution_count": 32,
   "id": "6707fb52-0e4c-4110-b152-761e20df2b5e",
   "metadata": {},
   "outputs": [
    {
     "data": {
      "text/html": [
       "<div>\n",
       "<style scoped>\n",
       "    .dataframe tbody tr th:only-of-type {\n",
       "        vertical-align: middle;\n",
       "    }\n",
       "\n",
       "    .dataframe tbody tr th {\n",
       "        vertical-align: top;\n",
       "    }\n",
       "\n",
       "    .dataframe thead th {\n",
       "        text-align: right;\n",
       "    }\n",
       "</style>\n",
       "<table border=\"1\" class=\"dataframe\">\n",
       "  <thead>\n",
       "    <tr style=\"text-align: right;\">\n",
       "      <th></th>\n",
       "      <th>num_arrests</th>\n",
       "      <th>temp</th>\n",
       "      <th>feels_like</th>\n",
       "      <th>temp_min</th>\n",
       "      <th>temp_max</th>\n",
       "      <th>humidity</th>\n",
       "      <th>wind_speed</th>\n",
       "      <th>wind_deg</th>\n",
       "      <th>rain_1h</th>\n",
       "      <th>rain_3h</th>\n",
       "      <th>snow_1h</th>\n",
       "      <th>snow_3h</th>\n",
       "      <th>clouds_all</th>\n",
       "      <th>date</th>\n",
       "    </tr>\n",
       "    <tr>\n",
       "      <th>date</th>\n",
       "      <th></th>\n",
       "      <th></th>\n",
       "      <th></th>\n",
       "      <th></th>\n",
       "      <th></th>\n",
       "      <th></th>\n",
       "      <th></th>\n",
       "      <th></th>\n",
       "      <th></th>\n",
       "      <th></th>\n",
       "      <th></th>\n",
       "      <th></th>\n",
       "      <th></th>\n",
       "      <th></th>\n",
       "    </tr>\n",
       "  </thead>\n",
       "  <tbody>\n",
       "  </tbody>\n",
       "</table>\n",
       "</div>"
      ],
      "text/plain": [
       "Empty DataFrame\n",
       "Columns: [num_arrests, temp, feels_like, temp_min, temp_max, humidity, wind_speed, wind_deg, rain_1h, rain_3h, snow_1h, snow_3h, clouds_all, date]\n",
       "Index: []"
      ]
     },
     "execution_count": 32,
     "metadata": {},
     "output_type": "execute_result"
    }
   ],
   "source": [
    "daily_arrests.head()"
   ]
  },
  {
   "cell_type": "markdown",
   "id": "0b79f374-ca07-442f-b9fa-6052bae56a6b",
   "metadata": {},
   "source": [
    "#### Visualizations"
   ]
  },
  {
   "cell_type": "code",
   "execution_count": 33,
   "id": "d8d1ab32-29dc-4b2c-b33d-3a7d97c9c182",
   "metadata": {},
   "outputs": [
    {
     "data": {
      "text/plain": [
       "Text(0.5, 1.0, 'Snow: 3 Hours')"
      ]
     },
     "execution_count": 33,
     "metadata": {},
     "output_type": "execute_result"
    },
    {
     "data": {
      "image/png": "[encoded data removed]",
      "text/plain": [
       "<Figure size 864x1728 with 8 Axes>"
      ]
     },
     "metadata": {
      "needs_background": "light"
     },
     "output_type": "display_data"
    }
   ],
   "source": [
    "import matplotlib.pyplot as plt\n",
    "import seaborn as sns\n",
    "\n",
    "fig, ax = plt.subplots(ncols=2, nrows=4, sharey=True, figsize=(12, 24))\n",
    "ax1, ax2, ax3, ax4, ax5, ax6, ax7, ax8 = ax.flatten()\n",
    "scatter_toggle = False\n",
    "\n",
    "sns.regplot(x=daily_arrests['temp'], y=daily_arrests['num_arrests'], ax=ax1, scatter=scatter_toggle).set_title(\"Temp\")\n",
    "sns.regplot(x=daily_arrests['feels_like'], y=daily_arrests['num_arrests'], ax=ax2, scatter=scatter_toggle).set_title(\"Feels Like\")\n",
    "sns.regplot(x=daily_arrests['temp_min'], y=daily_arrests['num_arrests'], ax=ax3, scatter=scatter_toggle).set_title(\"Temp: Min\")\n",
    "sns.regplot(x=daily_arrests['temp_max'], y=daily_arrests['num_arrests'], ax=ax4, scatter=scatter_toggle).set_title(\"Temp: Max\")\n",
    "sns.regplot(x=daily_arrests['rain_1h'], y=daily_arrests['num_arrests'], ax=ax5, scatter=scatter_toggle).set_title(\"Rain: 1 Hour\")\n",
    "sns.regplot(x=daily_arrests['rain_3h'], y=daily_arrests['num_arrests'], ax=ax6, scatter=scatter_toggle).set_title(\"Rain: 3 Hours\")\n",
    "sns.regplot(x=daily_arrests['snow_1h'], y=daily_arrests['num_arrests'], ax=ax7, scatter=scatter_toggle).set_title(\"Snow: 1 Hour\")\n",
    "sns.regplot(x=daily_arrests['snow_3h'], y=daily_arrests['num_arrests'], ax=ax8, scatter=scatter_toggle).set_title(\"Snow: 3 Hours\")"
   ]
  },
  {
   "cell_type": "markdown",
   "id": "7dfd9f95-59f0-4d66-a922-a0e92297fe17",
   "metadata": {},
   "source": [
    "### Remarks\n",
    "\n",
    "There's some correlation when we restrict the dataset to particular offense categories and particular offense levels. Heat seems to have a slight positive correlation with number of arrests. Rain and snow have a higher, negative correlations with number of arrests."
   ]
  }
 ],
 "metadata": {
  "kernelspec": {
   "display_name": "Python 3 (ipykernel)",
   "language": "python",
   "name": "python3"
  },
  "language_info": {
   "codemirror_mode": {
    "name": "ipython",
    "version": 3
   },
   "file_extension": ".py",
   "mimetype": "text/x-python",
   "name": "python",
   "nbconvert_exporter": "python",
   "pygments_lexer": "ipython3",
   "version": "3.8.12"
  }
 },
 "nbformat": 4,
 "nbformat_minor": 5
}
